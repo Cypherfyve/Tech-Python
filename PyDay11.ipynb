{
 "cells": [
  {
   "cell_type": "code",
   "execution_count": 1,
   "id": "c74d84af",
   "metadata": {},
   "outputs": [],
   "source": [
    "expenses = {} #Creating a empty dictionary"
   ]
  },
  {
   "cell_type": "code",
   "execution_count": 15,
   "id": "10ef47eb",
   "metadata": {},
   "outputs": [],
   "source": [
    "# function - to add a new expense\n",
    "def add_expense(category,date,amount):\n",
    "    if category in expenses:\n",
    "        if date in expenses[category]:\n",
    "            expenses[category][date].append(amount)\n",
    "        else:\n",
    "            expenses[category][date] = [amount]\n",
    "    else:\n",
    "        expenses[category] = {date: [amount]}\n",
    "    print(f'Added expense of rs.{amount} in {category} on {date}.')"
   ]
  },
  {
   "cell_type": "code",
   "execution_count": 16,
   "id": "96ba3618",
   "metadata": {},
   "outputs": [
    {
     "name": "stdout",
     "output_type": "stream",
     "text": [
      "Added expense of rs.100 in Food on 2023-03-18.\n"
     ]
    }
   ],
   "source": [
    "add_expense(\"Food\",\"2023-03-18\",100)"
   ]
  },
  {
   "cell_type": "code",
   "execution_count": 39,
   "id": "0815cb16",
   "metadata": {},
   "outputs": [],
   "source": [
    "def remove_expense(category, date, index):\n",
    "\n",
    "    if category in expenses and date in expenses[category]:\n",
    "        if index < len(expenses[category][date]):\n",
    "            amount = expenses[category][date].pop(index)\n",
    "            if not expenses[category][date]:\n",
    "                del expenses[category][date]\n",
    "            if not expenses[category]:\n",
    "                del expenses[category]\n",
    "            print(f\"Removed expense of {amount} from {category} category on {date}.\")\n",
    "        else:\n",
    "            print(\"Invalid expense index.\")\n",
    "    else:\n",
    "        print(\"Expense not found.\")"
   ]
  },
  {
   "cell_type": "code",
   "execution_count": 40,
   "id": "059b7791",
   "metadata": {},
   "outputs": [
    {
     "name": "stdout",
     "output_type": "stream",
     "text": [
      "Invalid expense index.\n"
     ]
    }
   ],
   "source": [
    "remove_expense(\"Food\",\"2023-03-18\",100)"
   ]
  },
  {
   "cell_type": "code",
   "execution_count": 49,
   "id": "9390b332",
   "metadata": {},
   "outputs": [],
   "source": [
    "def display_expense():\n",
    "    if not expenses:\n",
    "        print(\"No expenses recorded.\")\n",
    "    else:\n",
    "        for category in expenses:\n",
    "            print(f'{category}:')\n",
    "            for date in expenses [category]:\n",
    "                print(f'\\t{date}:{expenses[category][date]}')"
   ]
  },
  {
   "cell_type": "code",
   "execution_count": 43,
   "id": "7df3e13e",
   "metadata": {},
   "outputs": [
    {
     "name": "stdout",
     "output_type": "stream",
     "text": [
      "Invalid expense index.\n"
     ]
    }
   ],
   "source": [
    "remove_expense(\"Food\",\"2023-03-18\",100)"
   ]
  },
  {
   "cell_type": "code",
   "execution_count": 44,
   "id": "1d5774cf",
   "metadata": {},
   "outputs": [
    {
     "name": "stdout",
     "output_type": "stream",
     "text": [
      "Added expense of rs.10.5 in Food on 2023-02-05.\n",
      "Added expense of rs.5.0 in Transportation on 2023-03-18.\n",
      "Added expense of rs.8.75 in Food on 2023-03-19.\n"
     ]
    }
   ],
   "source": [
    "add_expense(\"Food\", \"2023-02-05\", 10.5)\n",
    "add_expense(\"Transportation\", \"2023-03-18\", 5.0)\n",
    "add_expense(\"Food\", \"2023-03-19\", 8.75)"
   ]
  },
  {
   "cell_type": "code",
   "execution_count": 50,
   "id": "67cfec5a",
   "metadata": {},
   "outputs": [
    {
     "name": "stdout",
     "output_type": "stream",
     "text": [
      "Food:\n",
      "\t2023-03-18:['$10', 100, 100, 100, 100]\n",
      "\t2023-02-05:[10.5]\n",
      "\t2023-03-19:[8.75]\n",
      "Transportation:\n",
      "\t2023-03-18:[5.0]\n"
     ]
    }
   ],
   "source": [
    "display_expense()"
   ]
  },
  {
   "cell_type": "code",
   "execution_count": null,
   "id": "59d3934c",
   "metadata": {},
   "outputs": [],
   "source": []
  }
 ],
 "metadata": {
  "kernelspec": {
   "display_name": "Python 3 (ipykernel)",
   "language": "python",
   "name": "python3"
  },
  "language_info": {
   "codemirror_mode": {
    "name": "ipython",
    "version": 3
   },
   "file_extension": ".py",
   "mimetype": "text/x-python",
   "name": "python",
   "nbconvert_exporter": "python",
   "pygments_lexer": "ipython3",
   "version": "3.9.13"
  }
 },
 "nbformat": 4,
 "nbformat_minor": 5
}
