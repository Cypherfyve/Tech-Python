{
 "cells": [
  {
   "cell_type": "markdown",
   "id": "05c410b7",
   "metadata": {},
   "source": [
    "#Data Types\n",
    "\n",
    "element at the end of the list\n",
    "\n",
    "clear() Removes all the elements from the list\n",
    "\n",
    "copy() Returns a copy of the list\n",
    "\n",
    "count() Returns the number of elements with the specified value\n",
    "\n",
    "extend() Add the elements of a list to the end of the current list\n",
    "\n",
    "index() Returns the index of the first element with the specified value\n",
    "\n",
    "insert() Adds an element at the specified position\n",
    "\n",
    "pop() Removes the element at the specified position \n",
    "\n",
    "remove() Removes the item with the specified value\n",
    "\n",
    "reverse() Reverses the order of the lsit\n",
    "\n",
    "sort() Sorts the list"
   ]
  },
  {
   "cell_type": "code",
   "execution_count": 6,
   "id": "5e38a097",
   "metadata": {},
   "outputs": [],
   "source": [
    "fruits=['apple','banana','cherry']"
   ]
  },
  {
   "cell_type": "code",
   "execution_count": 2,
   "id": "62ffeeb8",
   "metadata": {},
   "outputs": [],
   "source": [
    "fruits1=('apple','banana','cherry')"
   ]
  },
  {
   "cell_type": "code",
   "execution_count": 3,
   "id": "5d73b8e2",
   "metadata": {},
   "outputs": [],
   "source": [
    "fruits[0]='orange'"
   ]
  },
  {
   "cell_type": "code",
   "execution_count": 7,
   "id": "4386701a",
   "metadata": {},
   "outputs": [
    {
     "data": {
      "text/plain": [
       "['apple', 'banana', 'cherry']"
      ]
     },
     "execution_count": 7,
     "metadata": {},
     "output_type": "execute_result"
    }
   ],
   "source": [
    "fruits"
   ]
  },
  {
   "cell_type": "code",
   "execution_count": 5,
   "id": "61f33240",
   "metadata": {},
   "outputs": [
    {
     "data": {
      "text/plain": [
       "('apple', 'banana', 'cherry')"
      ]
     },
     "execution_count": 5,
     "metadata": {},
     "output_type": "execute_result"
    }
   ],
   "source": [
    "fruits1"
   ]
  },
  {
   "cell_type": "code",
   "execution_count": 8,
   "id": "ab3da4f2",
   "metadata": {},
   "outputs": [],
   "source": [
    "fruits2=('apple',)"
   ]
  },
  {
   "cell_type": "code",
   "execution_count": 9,
   "id": "ba7b3b66",
   "metadata": {},
   "outputs": [
    {
     "data": {
      "text/plain": [
       "tuple"
      ]
     },
     "execution_count": 9,
     "metadata": {},
     "output_type": "execute_result"
    }
   ],
   "source": [
    "type(fruits2)"
   ]
  },
  {
   "cell_type": "code",
   "execution_count": 10,
   "id": "7947ecab",
   "metadata": {},
   "outputs": [],
   "source": [
    "trail=(\"apple\",\"banana\",\"cherry\",\"grapes\",\"kiwi\",\"watermelon\")"
   ]
  },
  {
   "cell_type": "code",
   "execution_count": 11,
   "id": "22d48cd4",
   "metadata": {},
   "outputs": [
    {
     "data": {
      "text/plain": [
       "('cherry', 'grapes', 'kiwi', 'watermelon')"
      ]
     },
     "execution_count": 11,
     "metadata": {},
     "output_type": "execute_result"
    }
   ],
   "source": [
    "trail[2:]"
   ]
  },
  {
   "cell_type": "code",
   "execution_count": 18,
   "id": "d23d7681",
   "metadata": {},
   "outputs": [
    {
     "name": "stdout",
     "output_type": "stream",
     "text": [
      "banana is in the tuple\n"
     ]
    }
   ],
   "source": [
    "if 'banana' in fruits1:\n",
    "    print(\"banana is in the tuple\")"
   ]
  },
  {
   "cell_type": "code",
   "execution_count": 14,
   "id": "73ea7b56",
   "metadata": {},
   "outputs": [],
   "source": [
    "tuple_1=(\"apple\",\"banana\",\"cherry\")"
   ]
  },
  {
   "cell_type": "code",
   "execution_count": 15,
   "id": "0ae1cf01",
   "metadata": {},
   "outputs": [],
   "source": [
    "list_1=list(tuple_1)"
   ]
  },
  {
   "cell_type": "code",
   "execution_count": 17,
   "id": "5a9c538b",
   "metadata": {},
   "outputs": [],
   "source": [
    "list_1[0]='kiwi'"
   ]
  },
  {
   "cell_type": "code",
   "execution_count": 19,
   "id": "c464bc46",
   "metadata": {},
   "outputs": [],
   "source": [
    "tuple_1=tuple(list_1)"
   ]
  },
  {
   "cell_type": "code",
   "execution_count": 20,
   "id": "affbc80a",
   "metadata": {},
   "outputs": [
    {
     "data": {
      "text/plain": [
       "('kiwi', 'banana', 'cherry')"
      ]
     },
     "execution_count": 20,
     "metadata": {},
     "output_type": "execute_result"
    }
   ],
   "source": [
    "tuple_1"
   ]
  },
  {
   "cell_type": "code",
   "execution_count": 21,
   "id": "74be1b8c",
   "metadata": {},
   "outputs": [],
   "source": [
    "tuple_2 = trail + tuple_1"
   ]
  },
  {
   "cell_type": "code",
   "execution_count": 22,
   "id": "a10a9cee",
   "metadata": {},
   "outputs": [
    {
     "data": {
      "text/plain": [
       "('apple',\n",
       " 'banana',\n",
       " 'cherry',\n",
       " 'grapes',\n",
       " 'kiwi',\n",
       " 'watermelon',\n",
       " 'kiwi',\n",
       " 'banana',\n",
       " 'cherry')"
      ]
     },
     "execution_count": 22,
     "metadata": {},
     "output_type": "execute_result"
    }
   ],
   "source": [
    "tuple_2"
   ]
  },
  {
   "cell_type": "markdown",
   "id": "64a56e3b",
   "metadata": {},
   "source": [
    "# Set : Unordered Collection of unique elements it won't have duplicate values"
   ]
  },
  {
   "cell_type": "markdown",
   "id": "2543783b",
   "metadata": {},
   "source": [
    "Buit-In methods - add(),remove(),union()"
   ]
  },
  {
   "cell_type": "code",
   "execution_count": 23,
   "id": "107770e2",
   "metadata": {},
   "outputs": [],
   "source": [
    "my_set={1,2,3,4,3,5}"
   ]
  },
  {
   "cell_type": "code",
   "execution_count": 24,
   "id": "379c7ac0",
   "metadata": {},
   "outputs": [
    {
     "data": {
      "text/plain": [
       "{1, 2, 3, 4, 5}"
      ]
     },
     "execution_count": 24,
     "metadata": {},
     "output_type": "execute_result"
    }
   ],
   "source": [
    "my_set"
   ]
  },
  {
   "cell_type": "code",
   "execution_count": 25,
   "id": "030e8aa5",
   "metadata": {},
   "outputs": [],
   "source": [
    "my_set1={4,5,6,7}"
   ]
  },
  {
   "cell_type": "code",
   "execution_count": 26,
   "id": "b163ea7c",
   "metadata": {},
   "outputs": [],
   "source": [
    "my_set2=my_set.union(my_set1)"
   ]
  },
  {
   "cell_type": "code",
   "execution_count": 27,
   "id": "4bade82f",
   "metadata": {},
   "outputs": [
    {
     "data": {
      "text/plain": [
       "{1, 2, 3, 4, 5, 6, 7}"
      ]
     },
     "execution_count": 27,
     "metadata": {},
     "output_type": "execute_result"
    }
   ],
   "source": [
    "my_set2"
   ]
  },
  {
   "cell_type": "code",
   "execution_count": 30,
   "id": "1a8ed31e",
   "metadata": {},
   "outputs": [],
   "source": [
    "set1={1,2,3}\n",
    "set2={3,4,5}"
   ]
  },
  {
   "cell_type": "code",
   "execution_count": 31,
   "id": "325ab633",
   "metadata": {},
   "outputs": [
    {
     "name": "stdout",
     "output_type": "stream",
     "text": [
      "{3}\n"
     ]
    }
   ],
   "source": [
    "set3=set1.intersection(set2)\n",
    "print(set3)"
   ]
  },
  {
   "cell_type": "code",
   "execution_count": 32,
   "id": "1533eb9e",
   "metadata": {},
   "outputs": [],
   "source": [
    "set4=set1.difference(set2)"
   ]
  },
  {
   "cell_type": "code",
   "execution_count": 33,
   "id": "7628d3b4",
   "metadata": {},
   "outputs": [
    {
     "data": {
      "text/plain": [
       "{1, 2}"
      ]
     },
     "execution_count": 33,
     "metadata": {},
     "output_type": "execute_result"
    }
   ],
   "source": [
    "set4"
   ]
  },
  {
   "cell_type": "code",
   "execution_count": 34,
   "id": "d4440eda",
   "metadata": {},
   "outputs": [],
   "source": [
    "set5=set2.difference(set1)"
   ]
  },
  {
   "cell_type": "code",
   "execution_count": 35,
   "id": "50448702",
   "metadata": {},
   "outputs": [
    {
     "data": {
      "text/plain": [
       "{4, 5}"
      ]
     },
     "execution_count": 35,
     "metadata": {},
     "output_type": "execute_result"
    }
   ],
   "source": [
    "set5"
   ]
  },
  {
   "cell_type": "code",
   "execution_count": 36,
   "id": "6f23527e",
   "metadata": {},
   "outputs": [
    {
     "name": "stdout",
     "output_type": "stream",
     "text": [
      "[1, 2, 3, 4, 5]\n"
     ]
    }
   ],
   "source": [
    "my_list=[1,2,3,4,5]\n",
    "my_set=set(my_list)\n",
    "unique_list=list(my_set)\n",
    "print(unique_list)"
   ]
  },
  {
   "cell_type": "code",
   "execution_count": null,
   "id": "1ade8576",
   "metadata": {},
   "outputs": [],
   "source": []
  }
 ],
 "metadata": {
  "kernelspec": {
   "display_name": "Python 3 (ipykernel)",
   "language": "python",
   "name": "python3"
  },
  "language_info": {
   "codemirror_mode": {
    "name": "ipython",
    "version": 3
   },
   "file_extension": ".py",
   "mimetype": "text/x-python",
   "name": "python",
   "nbconvert_exporter": "python",
   "pygments_lexer": "ipython3",
   "version": "3.9.13"
  }
 },
 "nbformat": 4,
 "nbformat_minor": 5
}
