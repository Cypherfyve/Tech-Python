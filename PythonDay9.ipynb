{
 "cells": [
  {
   "cell_type": "markdown",
   "id": "f6d8558b",
   "metadata": {},
   "source": [
    "# list of todo"
   ]
  },
  {
   "cell_type": "code",
   "execution_count": 2,
   "id": "de761d3c",
   "metadata": {},
   "outputs": [
    {
     "name": "stdout",
     "output_type": "stream",
     "text": [
      "Enter a todo list:Hi\n",
      "Enter a todo list:Did \n",
      "Enter a todo list:I asked \n",
      "Enter a todo list:you lol\n",
      "('Hi', 'Did ', 'I asked ', 'you lol')\n"
     ]
    }
   ],
   "source": [
    "message = \"Enter a todo list:\"\n",
    "x1 = input(message)\n",
    "x2 = input(message)\n",
    "x3 = input(message)\n",
    "x4 = input(message)\n",
    "todos = (x1,x2,x3,x4)\n",
    "print(todos)"
   ]
  },
  {
   "cell_type": "code",
   "execution_count": 5,
   "id": "bfda811d",
   "metadata": {},
   "outputs": [
    {
     "name": "stdout",
     "output_type": "stream",
     "text": [
      "To add,show or exit:add\n",
      "Enter a todo :xD\n",
      "To add,show or exit:show\n",
      "[]\n",
      "To add,show or exit:exit\n"
     ]
    }
   ],
   "source": [
    "entries = []\n",
    "while True:\n",
    "    user_entry = input(\"To add,show or exit:\")\n",
    "    if user_entry == 'add':\n",
    "        entry = input(\"Enter a todo :\")\n",
    "    elif user_entry == 'show':\n",
    "        print(entries)\n",
    "    else:\n",
    "        break"
   ]
  },
  {
   "cell_type": "code",
   "execution_count": 7,
   "id": "16a06bf1",
   "metadata": {},
   "outputs": [
    {
     "name": "stdout",
     "output_type": "stream",
     "text": [
      "To add,show or exit:add\n",
      "Enter a todo :xD\n",
      "To add,show or exit:show\n",
      "[]\n",
      "To add,show or exit:exit\n"
     ]
    }
   ],
   "source": [
    "entries = []\n",
    "while True:\n",
    "    user_entry = input(\"To add,show or exit:\")\n",
    "    if user_entry == 'add':\n",
    "        entry = input(\"Enter a todo:\")\n",
    "    elif user_entry == 'show':\n",
    "        for items in entries:\n",
    "        print(\"Todo entry:\",items)\n",
    "    if user_entry == 'exit':\n",
    "        for items in entries:\n",
    "            print(\"Todo entry:\",items)\n",
    "        break"
   ]
  },
  {
   "cell_type": "code",
   "execution_count": null,
   "id": "9569a323",
   "metadata": {},
   "outputs": [],
   "source": []
  }
 ],
 "metadata": {
  "kernelspec": {
   "display_name": "Python 3 (ipykernel)",
   "language": "python",
   "name": "python3"
  },
  "language_info": {
   "codemirror_mode": {
    "name": "ipython",
    "version": 3
   },
   "file_extension": ".py",
   "mimetype": "text/x-python",
   "name": "python",
   "nbconvert_exporter": "python",
   "pygments_lexer": "ipython3",
   "version": "3.9.13"
  }
 },
 "nbformat": 4,
 "nbformat_minor": 5
}
