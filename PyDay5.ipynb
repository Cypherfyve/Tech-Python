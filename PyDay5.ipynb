{
 "cells": [
  {
   "cell_type": "markdown",
   "id": "431d7181",
   "metadata": {},
   "source": [
    "# Dictionaries"
   ]
  },
  {
   "cell_type": "markdown",
   "id": "721499ad",
   "metadata": {},
   "source": [
    "Mutuable , dynamic , nested"
   ]
  },
  {
   "cell_type": "code",
   "execution_count": 1,
   "id": "fee35853",
   "metadata": {},
   "outputs": [],
   "source": [
    "list1 = [\"1\",\"2\",\"3\"]"
   ]
  },
  {
   "cell_type": "code",
   "execution_count": 2,
   "id": "ab0bbfbb",
   "metadata": {},
   "outputs": [
    {
     "data": {
      "text/plain": [
       "('1', '2', '3')"
      ]
     },
     "execution_count": 2,
     "metadata": {},
     "output_type": "execute_result"
    }
   ],
   "source": [
    "list1[0],list1[1],list1[2]"
   ]
  },
  {
   "cell_type": "markdown",
   "id": "c26db80c",
   "metadata": {},
   "source": [
    "Associative Array - Key-Value Pair "
   ]
  },
  {
   "cell_type": "code",
   "execution_count": 3,
   "id": "75198cd4",
   "metadata": {},
   "outputs": [],
   "source": [
    "grade = {\"Subject1\":\"Python\",\"Subject2\":\"R\",\"Subject3\":\"Java\"}"
   ]
  },
  {
   "cell_type": "code",
   "execution_count": 4,
   "id": "2f79d6fc",
   "metadata": {},
   "outputs": [
    {
     "data": {
      "text/plain": [
       "dict"
      ]
     },
     "execution_count": 4,
     "metadata": {},
     "output_type": "execute_result"
    }
   ],
   "source": [
    "type(grade)"
   ]
  },
  {
   "cell_type": "code",
   "execution_count": 5,
   "id": "89d336e6",
   "metadata": {},
   "outputs": [
    {
     "data": {
      "text/plain": [
       "3"
      ]
     },
     "execution_count": 5,
     "metadata": {},
     "output_type": "execute_result"
    }
   ],
   "source": [
    "len(grade)"
   ]
  },
  {
   "cell_type": "code",
   "execution_count": 6,
   "id": "c87fff7a",
   "metadata": {},
   "outputs": [
    {
     "data": {
      "text/plain": [
       "'Python'"
      ]
     },
     "execution_count": 6,
     "metadata": {},
     "output_type": "execute_result"
    }
   ],
   "source": [
    "grade[\"Subject1\"]"
   ]
  },
  {
   "cell_type": "code",
   "execution_count": 7,
   "id": "9c46b5de",
   "metadata": {},
   "outputs": [],
   "source": [
    "personal_info = {\"name\":\"Name\",\"DOB\":\"00-00-0000\",\"Gender\":\"M/F\"}"
   ]
  },
  {
   "cell_type": "code",
   "execution_count": 8,
   "id": "6dbb8053",
   "metadata": {},
   "outputs": [],
   "source": [
    "students = [\"Ram\",\"Shyam\",\"Hari\",\"Gopal\",\"Vishnu\"]"
   ]
  },
  {
   "cell_type": "code",
   "execution_count": 9,
   "id": "f28a6885",
   "metadata": {},
   "outputs": [],
   "source": [
    "num = [\"1\",\"2\",\"3\",\"4\",\"5\"]"
   ]
  },
  {
   "cell_type": "code",
   "execution_count": 10,
   "id": "ae7704f9",
   "metadata": {},
   "outputs": [
    {
     "data": {
      "text/plain": [
       "{'Ram': '1', 'Shyam': '2', 'Hari': '3', 'Gopal': '4', 'Vishnu': '5'}"
      ]
     },
     "execution_count": 10,
     "metadata": {},
     "output_type": "execute_result"
    }
   ],
   "source": [
    "dict(zip(students,num))"
   ]
  },
  {
   "cell_type": "code",
   "execution_count": 6,
   "id": "1ca2b0c7",
   "metadata": {},
   "outputs": [],
   "source": [
    "dict1 = dict(Ram=1,Shyam=2,Hari=3,Gopal=4,Vishnu=5)"
   ]
  },
  {
   "cell_type": "code",
   "execution_count": 7,
   "id": "3cdfea17",
   "metadata": {},
   "outputs": [
    {
     "name": "stdout",
     "output_type": "stream",
     "text": [
      "{'Ram': 1, 'Shyam': 2, 'Hari': 3, 'Gopal': 4, 'Vishnu': 5}\n"
     ]
    }
   ],
   "source": [
    "print(dict1)"
   ]
  },
  {
   "cell_type": "code",
   "execution_count": 8,
   "id": "5a3cd6c1",
   "metadata": {},
   "outputs": [
    {
     "data": {
      "text/plain": [
       "1"
      ]
     },
     "execution_count": 8,
     "metadata": {},
     "output_type": "execute_result"
    }
   ],
   "source": [
    "dict1[\"Ram\"]"
   ]
  },
  {
   "cell_type": "code",
   "execution_count": 9,
   "id": "bd78c7b0",
   "metadata": {},
   "outputs": [],
   "source": [
    "dict1['Gopi'] = 5"
   ]
  },
  {
   "cell_type": "code",
   "execution_count": 11,
   "id": "8b5e68a1",
   "metadata": {},
   "outputs": [
    {
     "data": {
      "text/plain": [
       "{'Ram': 1, 'Shyam': 2, 'Hari': 3, 'Gopal': 4, 'Vishnu': 5, 'Gopi': 5}"
      ]
     },
     "execution_count": 11,
     "metadata": {},
     "output_type": "execute_result"
    }
   ],
   "source": [
    "dict1"
   ]
  },
  {
   "cell_type": "code",
   "execution_count": 12,
   "id": "edcaaa99",
   "metadata": {},
   "outputs": [],
   "source": [
    "dict1.update({'John':10})"
   ]
  },
  {
   "cell_type": "code",
   "execution_count": 13,
   "id": "3d16a1a2",
   "metadata": {},
   "outputs": [
    {
     "data": {
      "text/plain": [
       "{'Ram': 1,\n",
       " 'Shyam': 2,\n",
       " 'Hari': 3,\n",
       " 'Gopal': 4,\n",
       " 'Vishnu': 5,\n",
       " 'Gopi': 5,\n",
       " 'John': 10}"
      ]
     },
     "execution_count": 13,
     "metadata": {},
     "output_type": "execute_result"
    }
   ],
   "source": [
    "dict1"
   ]
  },
  {
   "cell_type": "code",
   "execution_count": 14,
   "id": "f3b3d167",
   "metadata": {},
   "outputs": [
    {
     "data": {
      "text/plain": [
       "10"
      ]
     },
     "execution_count": 14,
     "metadata": {},
     "output_type": "execute_result"
    }
   ],
   "source": [
    "dict1.pop('John')"
   ]
  },
  {
   "cell_type": "code",
   "execution_count": 15,
   "id": "2a4e7da0",
   "metadata": {},
   "outputs": [
    {
     "data": {
      "text/plain": [
       "{'Ram': 1, 'Shyam': 2, 'Hari': 3, 'Gopal': 4, 'Vishnu': 5, 'Gopi': 5}"
      ]
     },
     "execution_count": 15,
     "metadata": {},
     "output_type": "execute_result"
    }
   ],
   "source": [
    "dict1"
   ]
  },
  {
   "cell_type": "code",
   "execution_count": 16,
   "id": "4b12a5f2",
   "metadata": {},
   "outputs": [],
   "source": [
    "del dict1['Gopi']"
   ]
  },
  {
   "cell_type": "code",
   "execution_count": 17,
   "id": "5ededb33",
   "metadata": {},
   "outputs": [
    {
     "data": {
      "text/plain": [
       "{'Ram': 1, 'Shyam': 2, 'Hari': 3, 'Gopal': 4, 'Vishnu': 5}"
      ]
     },
     "execution_count": 17,
     "metadata": {},
     "output_type": "execute_result"
    }
   ],
   "source": [
    "dict1"
   ]
  },
  {
   "cell_type": "code",
   "execution_count": 18,
   "id": "cc690825",
   "metadata": {},
   "outputs": [],
   "source": [
    "dict1[\"Nikhil\"] = []"
   ]
  },
  {
   "cell_type": "code",
   "execution_count": 19,
   "id": "87ac8e16",
   "metadata": {},
   "outputs": [
    {
     "data": {
      "text/plain": [
       "{'Ram': 1, 'Shyam': 2, 'Hari': 3, 'Gopal': 4, 'Vishnu': 5, 'Nikhil': []}"
      ]
     },
     "execution_count": 19,
     "metadata": {},
     "output_type": "execute_result"
    }
   ],
   "source": [
    "dict1"
   ]
  },
  {
   "cell_type": "code",
   "execution_count": 21,
   "id": "04e2668e",
   "metadata": {},
   "outputs": [],
   "source": [
    "dict1['Nikhil'].append(8)"
   ]
  },
  {
   "cell_type": "code",
   "execution_count": 22,
   "id": "510696e4",
   "metadata": {},
   "outputs": [
    {
     "data": {
      "text/plain": [
       "{'Ram': 1, 'Shyam': 2, 'Hari': 3, 'Gopal': 4, 'Vishnu': 5, 'Nikhil': [8]}"
      ]
     },
     "execution_count": 22,
     "metadata": {},
     "output_type": "execute_result"
    }
   ],
   "source": [
    "dict1"
   ]
  },
  {
   "cell_type": "code",
   "execution_count": 23,
   "id": "9dd5491d",
   "metadata": {},
   "outputs": [],
   "source": [
    "dict1['Jayesh'] = 10"
   ]
  },
  {
   "cell_type": "code",
   "execution_count": 24,
   "id": "0444b598",
   "metadata": {},
   "outputs": [
    {
     "data": {
      "text/plain": [
       "{'Ram': 1,\n",
       " 'Shyam': 2,\n",
       " 'Hari': 3,\n",
       " 'Gopal': 4,\n",
       " 'Vishnu': 5,\n",
       " 'Nikhil': [8],\n",
       " 'Jayesh': 10}"
      ]
     },
     "execution_count": 24,
     "metadata": {},
     "output_type": "execute_result"
    }
   ],
   "source": [
    "dict1"
   ]
  },
  {
   "cell_type": "code",
   "execution_count": null,
   "id": "bf551070",
   "metadata": {},
   "outputs": [],
   "source": []
  }
 ],
 "metadata": {
  "kernelspec": {
   "display_name": "Python 3 (ipykernel)",
   "language": "python",
   "name": "python3"
  },
  "language_info": {
   "codemirror_mode": {
    "name": "ipython",
    "version": 3
   },
   "file_extension": ".py",
   "mimetype": "text/x-python",
   "name": "python",
   "nbconvert_exporter": "python",
   "pygments_lexer": "ipython3",
   "version": "3.9.13"
  }
 },
 "nbformat": 4,
 "nbformat_minor": 5
}
