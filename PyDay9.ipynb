{
 "cells": [
  {
   "cell_type": "markdown",
   "id": "e39c240f",
   "metadata": {},
   "source": [
    "# ToDo list"
   ]
  },
  {
   "cell_type": "code",
   "execution_count": 2,
   "id": "fb8cb84b",
   "metadata": {},
   "outputs": [
    {
     "name": "stdout",
     "output_type": "stream",
     "text": [
      "Enter a todo list:Hello\n",
      "Hello\n"
     ]
    }
   ],
   "source": [
    "x = print(input(\"Enter a todo list:\"))"
   ]
  },
  {
   "cell_type": "markdown",
   "id": "3a697c2c",
   "metadata": {},
   "source": [
    "# list of todo list"
   ]
  },
  {
   "cell_type": "code",
   "execution_count": null,
   "id": "a0da41a7",
   "metadata": {},
   "outputs": [],
   "source": [
    "x = \"Enter a todo list:\"\n",
    "x1 = input(message)\n",
    "x2 = input(message)\n",
    "x3 = input(message)\n",
    "x4 = input(message)"
   ]
  },
  {
   "cell_type": "code",
   "execution_count": null,
   "id": "f2a9c2b0",
   "metadata": {},
   "outputs": [],
   "source": []
  }
 ],
 "metadata": {
  "kernelspec": {
   "display_name": "Python 3 (ipykernel)",
   "language": "python",
   "name": "python3"
  },
  "language_info": {
   "codemirror_mode": {
    "name": "ipython",
    "version": 3
   },
   "file_extension": ".py",
   "mimetype": "text/x-python",
   "name": "python",
   "nbconvert_exporter": "python",
   "pygments_lexer": "ipython3",
   "version": "3.9.13"
  }
 },
 "nbformat": 4,
 "nbformat_minor": 5
}
