{
 "cells": [
  {
   "cell_type": "code",
   "execution_count": 1,
   "id": "64400ba7",
   "metadata": {},
   "outputs": [],
   "source": [
    "ex_1=\"123\""
   ]
  },
  {
   "cell_type": "code",
   "execution_count": 4,
   "id": "daf3e0e8",
   "metadata": {},
   "outputs": [
    {
     "data": {
      "text/plain": [
       "str"
      ]
     },
     "execution_count": 4,
     "metadata": {},
     "output_type": "execute_result"
    }
   ],
   "source": [
    "type(ex_1)"
   ]
  },
  {
   "cell_type": "code",
   "execution_count": 6,
   "id": "13ee9775",
   "metadata": {},
   "outputs": [],
   "source": [
    "ex_2=69"
   ]
  },
  {
   "cell_type": "code",
   "execution_count": 7,
   "id": "1f31de5b",
   "metadata": {},
   "outputs": [
    {
     "data": {
      "text/plain": [
       "int"
      ]
     },
     "execution_count": 7,
     "metadata": {},
     "output_type": "execute_result"
    }
   ],
   "source": [
    "type(ex_2)"
   ]
  },
  {
   "cell_type": "code",
   "execution_count": 8,
   "id": "d00cea75",
   "metadata": {},
   "outputs": [],
   "source": [
    "ex_3=-1.0"
   ]
  },
  {
   "cell_type": "code",
   "execution_count": 9,
   "id": "23dd83d3",
   "metadata": {},
   "outputs": [
    {
     "data": {
      "text/plain": [
       "float"
      ]
     },
     "execution_count": 9,
     "metadata": {},
     "output_type": "execute_result"
    }
   ],
   "source": [
    "type(ex_3)"
   ]
  },
  {
   "cell_type": "markdown",
   "id": "4193a538",
   "metadata": {},
   "source": [
    "# Boolean"
   ]
  },
  {
   "cell_type": "code",
   "execution_count": 10,
   "id": "0da459ee",
   "metadata": {},
   "outputs": [
    {
     "data": {
      "text/plain": [
       "False"
      ]
     },
     "execution_count": 10,
     "metadata": {},
     "output_type": "execute_result"
    }
   ],
   "source": [
    "69 > 69"
   ]
  },
  {
   "cell_type": "code",
   "execution_count": 11,
   "id": "887b34da",
   "metadata": {},
   "outputs": [
    {
     "data": {
      "text/plain": [
       "True"
      ]
     },
     "execution_count": 11,
     "metadata": {},
     "output_type": "execute_result"
    }
   ],
   "source": [
    "69==69.0"
   ]
  },
  {
   "cell_type": "code",
   "execution_count": 12,
   "id": "ba0dd8a4",
   "metadata": {},
   "outputs": [
    {
     "data": {
      "text/plain": [
       "True"
      ]
     },
     "execution_count": 12,
     "metadata": {},
     "output_type": "execute_result"
    }
   ],
   "source": [
    "69<69.9"
   ]
  },
  {
   "cell_type": "code",
   "execution_count": 13,
   "id": "a25fc0cc",
   "metadata": {},
   "outputs": [
    {
     "name": "stdout",
     "output_type": "stream",
     "text": [
      "True\n"
     ]
    }
   ],
   "source": [
    "print(bool(69))"
   ]
  },
  {
   "cell_type": "code",
   "execution_count": 14,
   "id": "1ffc9478",
   "metadata": {},
   "outputs": [
    {
     "name": "stdout",
     "output_type": "stream",
     "text": [
      "Sai\n",
      "18\n",
      "69\n"
     ]
    }
   ],
   "source": [
    "name=input()\n",
    "age=input()\n",
    "percentage=input()"
   ]
  },
  {
   "cell_type": "code",
   "execution_count": 15,
   "id": "860e4bf0",
   "metadata": {},
   "outputs": [],
   "source": [
    "education=[\"High School\",\"UG\",\"PG\"]"
   ]
  },
  {
   "cell_type": "code",
   "execution_count": 16,
   "id": "1d08892a",
   "metadata": {},
   "outputs": [
    {
     "data": {
      "text/plain": [
       "'UG'"
      ]
     },
     "execution_count": 16,
     "metadata": {},
     "output_type": "execute_result"
    }
   ],
   "source": [
    "education[1]"
   ]
  },
  {
   "cell_type": "code",
   "execution_count": 17,
   "id": "a99a9c3f",
   "metadata": {},
   "outputs": [
    {
     "data": {
      "text/plain": [
       "3"
      ]
     },
     "execution_count": 17,
     "metadata": {},
     "output_type": "execute_result"
    }
   ],
   "source": [
    "len(education)"
   ]
  },
  {
   "cell_type": "code",
   "execution_count": 18,
   "id": "987ab6fd",
   "metadata": {},
   "outputs": [],
   "source": [
    "fruits=[\"apple\",\"grapes\",\"strawberry\",\"pineapple\"]"
   ]
  },
  {
   "cell_type": "code",
   "execution_count": 20,
   "id": "a28cec57",
   "metadata": {},
   "outputs": [
    {
     "data": {
      "text/plain": [
       "['grapes', 'strawberry']"
      ]
     },
     "execution_count": 20,
     "metadata": {},
     "output_type": "execute_result"
    }
   ],
   "source": [
    "fruits[1:3]"
   ]
  },
  {
   "cell_type": "code",
   "execution_count": 21,
   "id": "12c2a1e9",
   "metadata": {},
   "outputs": [
    {
     "data": {
      "text/plain": [
       "['apple', 'grapes', 'strawberry']"
      ]
     },
     "execution_count": 21,
     "metadata": {},
     "output_type": "execute_result"
    }
   ],
   "source": [
    "fruits[0:3]"
   ]
  },
  {
   "cell_type": "code",
   "execution_count": 22,
   "id": "af7e437f",
   "metadata": {},
   "outputs": [],
   "source": [
    "fruits.clear()"
   ]
  },
  {
   "cell_type": "code",
   "execution_count": 23,
   "id": "4d42f481",
   "metadata": {},
   "outputs": [
    {
     "data": {
      "text/plain": [
       "[]"
      ]
     },
     "execution_count": 23,
     "metadata": {},
     "output_type": "execute_result"
    }
   ],
   "source": [
    "fruits"
   ]
  },
  {
   "cell_type": "code",
   "execution_count": null,
   "id": "8b06718d",
   "metadata": {},
   "outputs": [],
   "source": []
  }
 ],
 "metadata": {
  "kernelspec": {
   "display_name": "Python 3 (ipykernel)",
   "language": "python",
   "name": "python3"
  },
  "language_info": {
   "codemirror_mode": {
    "name": "ipython",
    "version": 3
   },
   "file_extension": ".py",
   "mimetype": "text/x-python",
   "name": "python",
   "nbconvert_exporter": "python",
   "pygments_lexer": "ipython3",
   "version": "3.9.13"
  }
 },
 "nbformat": 4,
 "nbformat_minor": 5
}
