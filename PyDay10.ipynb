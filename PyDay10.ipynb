{
 "cells": [
  {
   "cell_type": "code",
   "execution_count": 1,
   "id": "894453d1",
   "metadata": {},
   "outputs": [],
   "source": [
    "grocery_list = {}"
   ]
  },
  {
   "cell_type": "code",
   "execution_count": 3,
   "id": "bda0c97b",
   "metadata": {},
   "outputs": [],
   "source": [
    "def add_item(item,quantity):\n",
    "    if item in grocery_list:\n",
    "        grocery_list[item] += quantity\n",
    "    else:\n",
    "        grocery_list[item] = quantity\n",
    "    print(f\"{quantity} {item} added to the list.\")"
   ]
  },
  {
   "cell_type": "code",
   "execution_count": 5,
   "id": "05c5a773",
   "metadata": {},
   "outputs": [
    {
     "name": "stdout",
     "output_type": "stream",
     "text": [
      "2 apples added to the list.\n"
     ]
    }
   ],
   "source": [
    "add_item('apples',2)"
   ]
  },
  {
   "cell_type": "code",
   "execution_count": 6,
   "id": "bc85b328",
   "metadata": {},
   "outputs": [
    {
     "name": "stdout",
     "output_type": "stream",
     "text": [
      "2 kg tomato added to the list.\n"
     ]
    }
   ],
   "source": [
    "add_item(\"kg tomato\",2)"
   ]
  },
  {
   "cell_type": "code",
   "execution_count": 12,
   "id": "2a8d07b7",
   "metadata": {},
   "outputs": [],
   "source": [
    "def remove_item(item,quantity):\n",
    "    if item in grocery_list:\n",
    "        if grocery_list[item] > quantity:\n",
    "            grocery_list[item] -= quantity\n",
    "            print(f\"All{item}removed from the list.\")\n",
    "        else:\n",
    "            del grocery_list[item]\n",
    "            print(f\"{item} removed found in the List.\")\n",
    "    else:\n",
    "        print(f\"{item} not found in the List.\")"
   ]
  },
  {
   "cell_type": "code",
   "execution_count": 10,
   "id": "c2864834",
   "metadata": {},
   "outputs": [],
   "source": [
    "def display_list():\n",
    "    if not grocery_list:\n",
    "        print(\"Grocery List is empty.\")\n",
    "    else:\n",
    "        print(\"Grocery List:\")\n",
    "        for item,quantity in grocery_list.items():\n",
    "            print(f\"{quantity}{item}\")"
   ]
  },
  {
   "cell_type": "code",
   "execution_count": 13,
   "id": "f38d0b24",
   "metadata": {},
   "outputs": [
    {
     "name": "stdout",
     "output_type": "stream",
     "text": [
      "Grocery List:\n",
      "2apples\n",
      "2kg tomato\n"
     ]
    }
   ],
   "source": [
    "display_list()"
   ]
  },
  {
   "cell_type": "code",
   "execution_count": null,
   "id": "c85c9f85",
   "metadata": {},
   "outputs": [],
   "source": []
  }
 ],
 "metadata": {
  "kernelspec": {
   "display_name": "Python 3 (ipykernel)",
   "language": "python",
   "name": "python3"
  },
  "language_info": {
   "codemirror_mode": {
    "name": "ipython",
    "version": 3
   },
   "file_extension": ".py",
   "mimetype": "text/x-python",
   "name": "python",
   "nbconvert_exporter": "python",
   "pygments_lexer": "ipython3",
   "version": "3.9.13"
  }
 },
 "nbformat": 4,
 "nbformat_minor": 5
}
