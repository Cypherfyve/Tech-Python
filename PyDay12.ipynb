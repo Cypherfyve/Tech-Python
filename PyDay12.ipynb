{
 "cells": [
  {
   "cell_type": "markdown",
   "id": "fe177ab6",
   "metadata": {},
   "source": [
    "# BMI"
   ]
  },
  {
   "cell_type": "code",
   "execution_count": 1,
   "id": "ef0331c0",
   "metadata": {},
   "outputs": [],
   "source": [
    "# function that calculates BMI\n",
    "def calculate_bmi(weight,height):\n",
    "    bmi = weight/(height**2)\n",
    "    return bmi"
   ]
  },
  {
   "cell_type": "code",
   "execution_count": 2,
   "id": "0ab87540",
   "metadata": {},
   "outputs": [],
   "source": [
    "def interpret_bmi(bmi):\n",
    "    if bmi < 18.5:\n",
    "        return \"Underweight\"\n",
    "    elif bmi>=18.5 and bmi<25:\n",
    "        return \"Normalweight\"\n",
    "    elif bmi>=25 and bmi<30:\n",
    "        return \"Overweight\"\n",
    "    else:\n",
    "        return \"Obese\""
   ]
  },
  {
   "cell_type": "code",
   "execution_count": 4,
   "id": "4cd24de3",
   "metadata": {},
   "outputs": [
    {
     "name": "stdout",
     "output_type": "stream",
     "text": [
      "Enter your weight in kilogram:63\n",
      "Enter your height in meters:1.75\n"
     ]
    }
   ],
   "source": [
    "weight = float(input(\"Enter your weight in kilogram:\"))\n",
    "height = float(input(\"Enter your height in meters:\"))"
   ]
  },
  {
   "cell_type": "code",
   "execution_count": null,
   "id": "4e756580",
   "metadata": {},
   "outputs": [],
   "source": [
    "bmi = calculate_bmi(weight,height)\n"
   ]
  }
 ],
 "metadata": {
  "kernelspec": {
   "display_name": "Python 3 (ipykernel)",
   "language": "python",
   "name": "python3"
  },
  "language_info": {
   "codemirror_mode": {
    "name": "ipython",
    "version": 3
   },
   "file_extension": ".py",
   "mimetype": "text/x-python",
   "name": "python",
   "nbconvert_exporter": "python",
   "pygments_lexer": "ipython3",
   "version": "3.9.13"
  }
 },
 "nbformat": 4,
 "nbformat_minor": 5
}
