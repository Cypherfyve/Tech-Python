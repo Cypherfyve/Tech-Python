{
 "cells": [
  {
   "cell_type": "code",
   "execution_count": 1,
   "id": "f679e522",
   "metadata": {},
   "outputs": [
    {
     "name": "stdout",
     "output_type": "stream",
     "text": [
      "Hello World!\n"
     ]
    }
   ],
   "source": [
    "print(\"Hello World!\")"
   ]
  },
  {
   "cell_type": "code",
   "execution_count": 2,
   "id": "0b0e6363",
   "metadata": {},
   "outputs": [],
   "source": [
    "name=\"Tamil\""
   ]
  },
  {
   "cell_type": "code",
   "execution_count": 3,
   "id": "27e20d6b",
   "metadata": {},
   "outputs": [
    {
     "name": "stdout",
     "output_type": "stream",
     "text": [
      "Tamil\n"
     ]
    }
   ],
   "source": [
    "print(name)"
   ]
  },
  {
   "cell_type": "code",
   "execution_count": 4,
   "id": "639ecfca",
   "metadata": {},
   "outputs": [
    {
     "name": "stdout",
     "output_type": "stream",
     "text": [
      "What is your name:Sau\n",
      "Hello Sau\n"
     ]
    }
   ],
   "source": [
    "name=input(\"What is your name:\")\n",
    "print(\"Hello\",name)"
   ]
  },
  {
   "cell_type": "code",
   "execution_count": 6,
   "id": "9998e18d",
   "metadata": {},
   "outputs": [],
   "source": [
    "def display():\n",
    "    print(\"Ok\")"
   ]
  },
  {
   "cell_type": "code",
   "execution_count": 7,
   "id": "e0f34cbf",
   "metadata": {},
   "outputs": [
    {
     "name": "stdout",
     "output_type": "stream",
     "text": [
      "Ok\n"
     ]
    }
   ],
   "source": [
    "display()"
   ]
  },
  {
   "cell_type": "code",
   "execution_count": 8,
   "id": "95b0b7e0",
   "metadata": {},
   "outputs": [],
   "source": [
    "name_1=\"Sai\""
   ]
  },
  {
   "cell_type": "code",
   "execution_count": 10,
   "id": "02f7bb7d",
   "metadata": {},
   "outputs": [
    {
     "data": {
      "text/plain": [
       "'Sai'"
      ]
     },
     "execution_count": 10,
     "metadata": {},
     "output_type": "execute_result"
    }
   ],
   "source": [
    "name_1"
   ]
  },
  {
   "cell_type": "code",
   "execution_count": null,
   "id": "cf2a6552",
   "metadata": {},
   "outputs": [],
   "source": []
  }
 ],
 "metadata": {
  "kernelspec": {
   "display_name": "Python 3 (ipykernel)",
   "language": "python",
   "name": "python3"
  },
  "language_info": {
   "codemirror_mode": {
    "name": "ipython",
    "version": 3
   },
   "file_extension": ".py",
   "mimetype": "text/x-python",
   "name": "python",
   "nbconvert_exporter": "python",
   "pygments_lexer": "ipython3",
   "version": "3.9.13"
  }
 },
 "nbformat": 4,
 "nbformat_minor": 5
}
