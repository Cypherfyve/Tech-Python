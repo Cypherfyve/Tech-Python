{
 "cells": [
  {
   "cell_type": "markdown",
   "id": "44ad9fb0",
   "metadata": {},
   "source": [
    "# Global variable"
   ]
  },
  {
   "cell_type": "code",
   "execution_count": 15,
   "id": "457cd5a1",
   "metadata": {},
   "outputs": [],
   "source": [
    "message = \"students\""
   ]
  },
  {
   "cell_type": "code",
   "execution_count": 18,
   "id": "81f50f76",
   "metadata": {},
   "outputs": [],
   "source": [
    "def myfunc():\n",
    "    print(\"Good Morning \" + message)"
   ]
  },
  {
   "cell_type": "code",
   "execution_count": 19,
   "id": "e9b9026b",
   "metadata": {},
   "outputs": [
    {
     "name": "stdout",
     "output_type": "stream",
     "text": [
      "Good Morning students\n"
     ]
    }
   ],
   "source": [
    "myfunc()"
   ]
  },
  {
   "cell_type": "markdown",
   "id": "2946bcd8",
   "metadata": {},
   "source": [
    "# Data Types\n",
    "1.String\n",
    "\n",
    "2.Boolean\n",
    "\n",
    "3.Complex\n",
    "\n",
    "4.Float\n",
    "\n",
    "5.Integer"
   ]
  },
  {
   "cell_type": "code",
   "execution_count": 20,
   "id": "05a3994d",
   "metadata": {},
   "outputs": [],
   "source": [
    "comp = 25 + 1j"
   ]
  },
  {
   "cell_type": "code",
   "execution_count": 21,
   "id": "6a6d4c4a",
   "metadata": {},
   "outputs": [
    {
     "data": {
      "text/plain": [
       "complex"
      ]
     },
     "execution_count": 21,
     "metadata": {},
     "output_type": "execute_result"
    }
   ],
   "source": [
    "type(comp)"
   ]
  },
  {
   "cell_type": "markdown",
   "id": "26635db5",
   "metadata": {},
   "source": [
    "# BOOLEAN"
   ]
  },
  {
   "cell_type": "code",
   "execution_count": 1,
   "id": "8f3648b3",
   "metadata": {},
   "outputs": [
    {
     "name": "stdout",
     "output_type": "stream",
     "text": [
      "False\n"
     ]
    }
   ],
   "source": [
    "print(1>2)"
   ]
  },
  {
   "cell_type": "code",
   "execution_count": 2,
   "id": "be824fce",
   "metadata": {},
   "outputs": [
    {
     "name": "stdout",
     "output_type": "stream",
     "text": [
      "False\n"
     ]
    }
   ],
   "source": [
    "print(1==2)"
   ]
  },
  {
   "cell_type": "code",
   "execution_count": 3,
   "id": "a4a23698",
   "metadata": {},
   "outputs": [
    {
     "name": "stdout",
     "output_type": "stream",
     "text": [
      "True\n"
     ]
    }
   ],
   "source": [
    "print(1<2)"
   ]
  },
  {
   "cell_type": "code",
   "execution_count": 4,
   "id": "ef2360ef",
   "metadata": {},
   "outputs": [
    {
     "name": "stdout",
     "output_type": "stream",
     "text": [
      "1234\n",
      "0123\n",
      "b is not greater than a\n"
     ]
    }
   ],
   "source": [
    "a = input()\n",
    "b = input()\n",
    "\n",
    "if b>a:\n",
    "    print(\"b is greater than a\")\n",
    "else:\n",
    "    print(\"b is not greater than a\")"
   ]
  },
  {
   "cell_type": "code",
   "execution_count": null,
   "id": "49c76e7d",
   "metadata": {},
   "outputs": [],
   "source": []
  },
  {
   "cell_type": "markdown",
   "id": "004e1de7",
   "metadata": {},
   "source": [
    "# LOOP LIST"
   ]
  },
  {
   "cell_type": "code",
   "execution_count": 5,
   "id": "3f7c1e36",
   "metadata": {},
   "outputs": [],
   "source": [
    "fruits=[\"apple\",\"banana\",\"cherry\"]"
   ]
  },
  {
   "cell_type": "code",
   "execution_count": 6,
   "id": "52e6577d",
   "metadata": {},
   "outputs": [
    {
     "name": "stdout",
     "output_type": "stream",
     "text": [
      "apple\n",
      "banana\n",
      "cherry\n"
     ]
    }
   ],
   "source": [
    "for x in fruits:\n",
    "    print(x)"
   ]
  },
  {
   "cell_type": "code",
   "execution_count": 7,
   "id": "beff42b6",
   "metadata": {},
   "outputs": [
    {
     "name": "stdout",
     "output_type": "stream",
     "text": [
      "apple\n",
      "banana\n",
      "cherry\n"
     ]
    }
   ],
   "source": [
    "for i in range(len(fruits)):\n",
    "    print(fruits[i])"
   ]
  },
  {
   "cell_type": "code",
   "execution_count": 8,
   "id": "772fc77f",
   "metadata": {},
   "outputs": [
    {
     "data": {
      "text/plain": [
       "'cherry'"
      ]
     },
     "execution_count": 8,
     "metadata": {},
     "output_type": "execute_result"
    }
   ],
   "source": [
    "fruits[2]"
   ]
  },
  {
   "cell_type": "code",
   "execution_count": null,
   "id": "4bda4e03",
   "metadata": {},
   "outputs": [],
   "source": []
  }
 ],
 "metadata": {
  "kernelspec": {
   "display_name": "Python 3 (ipykernel)",
   "language": "python",
   "name": "python3"
  },
  "language_info": {
   "codemirror_mode": {
    "name": "ipython",
    "version": 3
   },
   "file_extension": ".py",
   "mimetype": "text/x-python",
   "name": "python",
   "nbconvert_exporter": "python",
   "pygments_lexer": "ipython3",
   "version": "3.9.13"
  }
 },
 "nbformat": 4,
 "nbformat_minor": 5
}
